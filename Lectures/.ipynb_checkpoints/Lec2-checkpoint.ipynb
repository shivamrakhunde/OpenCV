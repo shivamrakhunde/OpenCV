{
 "cells": [
  {
   "cell_type": "code",
   "execution_count": 41,
   "id": "200b29c7-662d-4daa-abe5-947e7bb60654",
   "metadata": {},
   "outputs": [],
   "source": [
    "import os, cv2"
   ]
  },
  {
   "cell_type": "markdown",
   "id": "4ee5274e-2d01-4b8e-8608-0ab903e0b7ff",
   "metadata": {},
   "source": [
    "# Image"
   ]
  },
  {
   "cell_type": "code",
   "execution_count": 12,
   "id": "a1217e4b-ef64-4229-9ebd-b90037561dd6",
   "metadata": {},
   "outputs": [],
   "source": [
    "image_name='face.jpeg'\n",
    "image_path = os.path.join('.','data',image_name)"
   ]
  },
  {
   "cell_type": "markdown",
   "id": "b572c5ee-3ae2-402a-822a-b724d4216221",
   "metadata": {},
   "source": [
    "Reading Image"
   ]
  },
  {
   "cell_type": "code",
   "execution_count": 13,
   "id": "af498705-987f-4c21-98cc-ac98c0165c32",
   "metadata": {},
   "outputs": [
    {
     "name": "stdout",
     "output_type": "stream",
     "text": [
      "(625, 500, 3)\n"
     ]
    }
   ],
   "source": [
    "image = cv2.imread(image_path)\n",
    "print(image.shape)"
   ]
  },
  {
   "cell_type": "markdown",
   "id": "55e340a9-0f55-4989-a569-6a35d0801bef",
   "metadata": {},
   "source": [
    "Writing Image"
   ]
  },
  {
   "cell_type": "code",
   "execution_count": 14,
   "id": "d989f656-2e29-4348-96ef-46239f056415",
   "metadata": {},
   "outputs": [
    {
     "data": {
      "text/plain": [
       "True"
      ]
     },
     "execution_count": 14,
     "metadata": {},
     "output_type": "execute_result"
    }
   ],
   "source": [
    "image_new_name=image_name[:image_name.find('.')]+'_out'+image_name[image_name.find('.'):]\n",
    "cv2.imwrite(os.path.join('.','data',image_new_name),image)"
   ]
  },
  {
   "cell_type": "markdown",
   "id": "b39502da-a2ad-450b-b5ab-00245827a2f2",
   "metadata": {},
   "source": [
    "Visualizing Image"
   ]
  },
  {
   "cell_type": "code",
   "execution_count": 16,
   "id": "15873556-4cfc-41e5-b364-bc7f85ca0325",
   "metadata": {},
   "outputs": [],
   "source": [
    "cv2.imshow('image',image)\n",
    "# cv2.waitKey(0)   # 0 ms means opencv  will wait with window open indefinitely\n",
    "cv2.waitKey(2000)\n",
    "cv2.destroyAllWindows()"
   ]
  },
  {
   "cell_type": "markdown",
   "id": "23f39d1e-8ffe-4e87-85aa-6025253bbb8d",
   "metadata": {},
   "source": [
    "# Video"
   ]
  },
  {
   "cell_type": "code",
   "execution_count": 17,
   "id": "ae79050c-b31b-494d-a0e7-020154b67062",
   "metadata": {},
   "outputs": [],
   "source": [
    "video_name='kabaddi.mp4'\n",
    "video_path=os.path.join('.','data',video_name)"
   ]
  },
  {
   "cell_type": "markdown",
   "id": "2b88d175-9eff-4262-9360-6ed7b166eb8e",
   "metadata": {},
   "source": [
    "Reading Video"
   ]
  },
  {
   "cell_type": "code",
   "execution_count": 22,
   "id": "c41d7072-5372-4b86-9ac4-805fa7785728",
   "metadata": {},
   "outputs": [],
   "source": [
    "video=cv2.VideoCapture(video_path)"
   ]
  },
  {
   "cell_type": "markdown",
   "id": "308bde7f-83ae-49d6-88e1-1402fc33c86b",
   "metadata": {},
   "source": [
    "Visualizing Video"
   ]
  },
  {
   "cell_type": "code",
   "execution_count": 26,
   "id": "b3aa1576-b959-4542-b543-00544c5b0056",
   "metadata": {},
   "outputs": [],
   "source": [
    "ret=True\n",
    "while ret:\n",
    "    ret, frame=video.read()\n",
    "    if ret:\n",
    "        cv2.imshow('frame',frame)\n",
    "        if cv2.waitKey(40) & 0xFF == 27:  # Exit if 'Esc' key (27) is pressed\n",
    "            break \n",
    "video.release()\n",
    "cv2.destroyAllWindows()"
   ]
  },
  {
   "cell_type": "markdown",
   "id": "3fcb4031-d504-4e3e-b560-bb3e55403542",
   "metadata": {},
   "source": [
    "# Webcam"
   ]
  },
  {
   "cell_type": "code",
   "execution_count": 38,
   "id": "e34805b1-54f7-460e-a365-adfd3b194a98",
   "metadata": {},
   "outputs": [
    {
     "name": "stdout",
     "output_type": "stream",
     "text": [
      "Webcam opened successfully\n"
     ]
    }
   ],
   "source": [
    "webcam=cv2.VideoCapture(0)\n",
    "if webcam.isOpened():\n",
    "    print(\"Webcam opened successfully\")\n",
    "else:\n",
    "    print(\"Error: Could not open webcam\")"
   ]
  },
  {
   "cell_type": "code",
   "execution_count": 39,
   "id": "c30d3563-8fc9-4e93-baf1-af268f73bdca",
   "metadata": {},
   "outputs": [],
   "source": [
    "while True:\n",
    "    ret, frame=webcam.read()\n",
    "    \n",
    "    if not ret or frame is None:\n",
    "        print(\"Error: Failed to capture frame\")\n",
    "        break  # Exit the loop if frame capture fails\n",
    "        \n",
    "    cv2.imshow('frame',frame)\n",
    "    if cv2.waitKey(40) & 0xFF==27:\n",
    "        break\n",
    "        \n",
    "webcam.release()\n",
    "cv2.destroyAllWindows()"
   ]
  },
  {
   "cell_type": "code",
   "execution_count": null,
   "id": "83616b93-e42a-4878-ae5b-8221ac9888d5",
   "metadata": {},
   "outputs": [],
   "source": []
  }
 ],
 "metadata": {
  "kernelspec": {
   "display_name": "Python (OpenCV)",
   "language": "python",
   "name": "opencv"
  },
  "language_info": {
   "codemirror_mode": {
    "name": "ipython",
    "version": 3
   },
   "file_extension": ".py",
   "mimetype": "text/x-python",
   "name": "python",
   "nbconvert_exporter": "python",
   "pygments_lexer": "ipython3",
   "version": "3.11.4"
  }
 },
 "nbformat": 4,
 "nbformat_minor": 5
}
